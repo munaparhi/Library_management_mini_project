{
 "cells": [
  {
   "cell_type": "code",
   "execution_count": 7,
   "id": "6176645f",
   "metadata": {},
   "outputs": [
    {
     "name": "stdout",
     "output_type": "stream",
     "text": [
      " muna parhi \n",
      "Never Again\n",
      "Stay away from bitches\n"
     ]
    },
    {
     "data": {
      "text/plain": [
       "3"
      ]
     },
     "execution_count": 7,
     "metadata": {},
     "output_type": "execute_result"
    }
   ],
   "source": [
    "class Library:\n",
    "    \n",
    "    def __init__(self):\n",
    "        \n",
    "        self.Books =[]\n",
    "        \n",
    "    def add_books(self,book):\n",
    "        self.Books.append(book)\n",
    "        \n",
    "    def no_of_book(self):\n",
    "        return len(self.Books)\n",
    "    \n",
    "    def print_books(self):\n",
    "        if not self.Books:\n",
    "            print('list is empty')\n",
    "        else:\n",
    "            for book in self.Books:\n",
    "                print(book)\n",
    "                \n",
    "                \n",
    "library1 = Library()\n",
    "library1.add_books(\" muna parhi \")\n",
    "library1.add_books('Never Again')\n",
    "library1.add_books('Stay away from bitches')\n",
    "\n",
    "\n",
    "library1.print_books()\n",
    "library1.no_of_book()\n",
    "        \n",
    "        \n",
    "        \n",
    "        "
   ]
  },
  {
   "cell_type": "code",
   "execution_count": null,
   "id": "c8f8b95a",
   "metadata": {},
   "outputs": [],
   "source": []
  }
 ],
 "metadata": {
  "kernelspec": {
   "display_name": "Python 3 (ipykernel)",
   "language": "python",
   "name": "python3"
  },
  "language_info": {
   "codemirror_mode": {
    "name": "ipython",
    "version": 3
   },
   "file_extension": ".py",
   "mimetype": "text/x-python",
   "name": "python",
   "nbconvert_exporter": "python",
   "pygments_lexer": "ipython3",
   "version": "3.10.9"
  }
 },
 "nbformat": 4,
 "nbformat_minor": 5
}
